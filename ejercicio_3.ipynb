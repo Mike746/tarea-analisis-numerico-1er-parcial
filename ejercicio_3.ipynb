{
  "nbformat": 4,
  "nbformat_minor": 0,
  "metadata": {
    "colab": {
      "name": "ejercicio 3",
      "provenance": [],
      "authorship_tag": "ABX9TyMXEaLhD7LZBOufZBCX+uLL",
      "include_colab_link": true
    },
    "kernelspec": {
      "name": "python3",
      "display_name": "Python 3"
    }
  },
  "cells": [
    {
      "cell_type": "markdown",
      "metadata": {
        "id": "view-in-github",
        "colab_type": "text"
      },
      "source": [
        "<a href=\"https://colab.research.google.com/github/Mike746/tarea-analisis-numerico-1er-parcial/blob/main/ejercicio_3.ipynb\" target=\"_parent\"><img src=\"https://colab.research.google.com/assets/colab-badge.svg\" alt=\"Open In Colab\"/></a>"
      ]
    },
    {
      "cell_type": "code",
      "metadata": {
        "id": "OmrTaCVGdbGQ",
        "outputId": "2de1fffe-55ef-4c7b-e8dd-357b144d1e65",
        "colab": {
          "base_uri": "https://localhost:8080/"
        }
      },
      "source": [
        "def nomina(horas, precio_hora):\n",
        "  pago=horas*precio_hora\n",
        "  print(\"lo que gana en un dia: \", pago)\n",
        "  pago_sem=pago*5\n",
        "  print(\"lo que gana en una semana: \", pago_sem)\n",
        "  pago_mes=pago*20\n",
        "  print(\"lo que gana en un mes: \",pago_mes)\n",
        "\n",
        "precio_horas=150\n",
        "horas=float(input(\"introduce el numero de horas trabajados por dia: \"))\n",
        "\n",
        "nomina(horas,precio_hora)"
      ],
      "execution_count": 3,
      "outputs": [
        {
          "output_type": "stream",
          "text": [
            "introduce el numero de horas trabajados por dia: 8\n",
            "lo que gana en un dia:  1200.0\n",
            "lo que gana en una semana:  6000.0\n",
            "lo que gana en un mes:  24000.0\n"
          ],
          "name": "stdout"
        }
      ]
    }
  ]
}