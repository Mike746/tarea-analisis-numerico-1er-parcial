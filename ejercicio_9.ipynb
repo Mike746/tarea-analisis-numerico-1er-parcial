{
  "nbformat": 4,
  "nbformat_minor": 0,
  "metadata": {
    "colab": {
      "name": "ejercicio 9",
      "provenance": [],
      "collapsed_sections": [],
      "authorship_tag": "ABX9TyMvWAb50uyC0tucfrwYtCvu",
      "include_colab_link": true
    },
    "kernelspec": {
      "name": "python3",
      "display_name": "Python 3"
    }
  },
  "cells": [
    {
      "cell_type": "markdown",
      "metadata": {
        "id": "view-in-github",
        "colab_type": "text"
      },
      "source": [
        "<a href=\"https://colab.research.google.com/github/Mike746/tarea-analisis-numerico-1er-parcial/blob/main/ejercicio_9.ipynb\" target=\"_parent\"><img src=\"https://colab.research.google.com/assets/colab-badge.svg\" alt=\"Open In Colab\"/></a>"
      ]
    },
    {
      "cell_type": "code",
      "metadata": {
        "id": "sy83tXNDBKQ3",
        "outputId": "57993003-84f1-4336-f1b3-6afd640b4eae",
        "colab": {
          "base_uri": "https://localhost:8080/"
        }
      },
      "source": [
        "def factorial(entero,n,facto):\n",
        "  while n<entero:\n",
        "    n=n+1\n",
        "    facto=facto*n\n",
        "    if n==entero:\n",
        "      print (\"elfactorial del numero es: \",facto)\n",
        "\n",
        "entero=int(input(\"intrduce el numero del cual quieres sber su factorial: \"))\n",
        "n=0\n",
        "facto=1\n",
        "factorial(entero,n,facto)"
      ],
      "execution_count": 64,
      "outputs": [
        {
          "output_type": "stream",
          "text": [
            "intrduce el numero del cual quieres sber su factorial: 5\n",
            "elfactorial del numero es:  120\n"
          ],
          "name": "stdout"
        }
      ]
    }
  ]
}