{
  "nbformat": 4,
  "nbformat_minor": 0,
  "metadata": {
    "colab": {
      "name": "Ejercicio 2",
      "provenance": [],
      "authorship_tag": "ABX9TyMUrCOGYslGPq5H7mS3J1Ad",
      "include_colab_link": true
    },
    "kernelspec": {
      "name": "python3",
      "display_name": "Python 3"
    }
  },
  "cells": [
    {
      "cell_type": "markdown",
      "metadata": {
        "id": "view-in-github",
        "colab_type": "text"
      },
      "source": [
        "<a href=\"https://colab.research.google.com/github/Mike746/tarea-analisis-numerico-1er-parcial/blob/main/Ejercicio_2.ipynb\" target=\"_parent\"><img src=\"https://colab.research.google.com/assets/colab-badge.svg\" alt=\"Open In Colab\"/></a>"
      ]
    },
    {
      "cell_type": "code",
      "metadata": {
        "id": "lBHdZ8OGSj5J",
        "outputId": "3c9765ec-c463-4465-8afe-fb0af0d23a8d",
        "colab": {
          "base_uri": "https://localhost:8080/"
        }
      },
      "source": [
        "contador=0\n",
        "cad_usuario= str(input(\"ingresa una cadena de caracteres: \"))\n",
        "while contador<3:\n",
        "  print(cad_usuario)\n",
        "  contador=contador+1"
      ],
      "execution_count": 1,
      "outputs": [
        {
          "output_type": "stream",
          "text": [
            "ingresa una cadena de caracteres: miguel\n",
            "miguel\n",
            "miguel\n",
            "miguel\n"
          ],
          "name": "stdout"
        }
      ]
    }
  ]
}