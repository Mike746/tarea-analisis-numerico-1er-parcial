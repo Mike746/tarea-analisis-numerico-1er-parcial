{
  "nbformat": 4,
  "nbformat_minor": 0,
  "metadata": {
    "colab": {
      "name": "ejercicio 7",
      "provenance": [],
      "authorship_tag": "ABX9TyMcujBniT+BzHdiBnN0wA59",
      "include_colab_link": true
    },
    "kernelspec": {
      "name": "python3",
      "display_name": "Python 3"
    }
  },
  "cells": [
    {
      "cell_type": "markdown",
      "metadata": {
        "id": "view-in-github",
        "colab_type": "text"
      },
      "source": [
        "<a href=\"https://colab.research.google.com/github/Mike746/tarea-analisis-numerico-1er-parcial/blob/main/ejercicio_7.ipynb\" target=\"_parent\"><img src=\"https://colab.research.google.com/assets/colab-badge.svg\" alt=\"Open In Colab\"/></a>"
      ]
    },
    {
      "cell_type": "code",
      "metadata": {
        "id": "EWK4JncVoVgt"
      },
      "source": [
        "print(\"BIENVENIDO\")\n",
        "def entrada(edad,ocupacion):\n",
        "  edad = int (input(\"Introduzca su edad (numero), por favor: \"))\n",
        "  ocupacion = str (input(\"Introduzca su ocupación por favor: \"))\n",
        "  valore = 0\n",
        "  if edad<=4:\n",
        "    print(\"El costo de su entrada es de: \",valore,\"pesos\")\n",
        "  else:\n",
        "     if 4<=edad<=16:\n",
        "       credencial = str (input(\"¿Cuentas con credencial de estudiante?\\n teclee si o no\"))\n",
        "       if credencial == 'si' or 'Sí':\n",
        "         valor = valore+50\n",
        "         descuento = valore*0.10\n",
        "         valorf = valor - descuento\n",
        "         print(\"El costo de su entrada es de: \",valorf,\"pesos\")\n",
        "     else:\n",
        "          valor = valore+50\n",
        "          print(\"El costo de su entrada es de: \",valore,\"pesos\")\n",
        "          if 16<=edad<=2000:\n",
        "           valor = valore+100 \n",
        "          if ocupacion == 'docente' or 'Docente' or'profesor' or 'Profesor': \n",
        "           docente = str(input(\"¿Cuentas con credencial de docente?\" ))\n",
        "           if docente =='si'or'Sí'or'sí'or'SÍ':\n",
        "            valor = valore+100\n",
        "            descuento = valor*0.30\n",
        "            valorf = valor-descuento\n",
        "            print(\"El costo de su entrada es de: \",valorf,\"pesos\")\n",
        "\n",
        "entrada(0,0)"
      ],
      "execution_count": null,
      "outputs": []
    }
  ]
}