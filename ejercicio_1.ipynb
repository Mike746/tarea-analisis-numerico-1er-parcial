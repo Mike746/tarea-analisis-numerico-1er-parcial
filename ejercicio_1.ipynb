{
  "nbformat": 4,
  "nbformat_minor": 0,
  "metadata": {
    "colab": {
      "name": "ejercicio 1",
      "provenance": [],
      "collapsed_sections": [],
      "authorship_tag": "ABX9TyMR6z9SeQGGWKts1A4/uoTl",
      "include_colab_link": true
    },
    "kernelspec": {
      "name": "python3",
      "display_name": "Python 3"
    }
  },
  "cells": [
    {
      "cell_type": "markdown",
      "metadata": {
        "id": "view-in-github",
        "colab_type": "text"
      },
      "source": [
        "<a href=\"https://colab.research.google.com/github/Mike746/tarea-analisis-numerico-1er-parcial/blob/main/ejercicio_1.ipynb\" target=\"_parent\"><img src=\"https://colab.research.google.com/assets/colab-badge.svg\" alt=\"Open In Colab\"/></a>"
      ]
    },
    {
      "cell_type": "code",
      "metadata": {
        "id": "B38pkkFflzPG"
      },
      "source": [
        "value=int(input(\"introduce un numero para saber si es par o inpar: \"))\n",
        "if value %2==0:\n",
        "  print(\"el numero ingresado es PAR\")\n",
        "else:\n",
        "    print(\"el numero es inpar\")\n",
        "print(\"fin del programa\")"
      ],
      "execution_count": null,
      "outputs": []
    }
  ]
}