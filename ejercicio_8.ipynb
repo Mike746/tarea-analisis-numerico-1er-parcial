{
  "nbformat": 4,
  "nbformat_minor": 0,
  "metadata": {
    "colab": {
      "name": "ejercicio 8",
      "provenance": [],
      "collapsed_sections": [],
      "authorship_tag": "ABX9TyMmYHyx0FOf69++UYPs+QWJ",
      "include_colab_link": true
    },
    "kernelspec": {
      "name": "python3",
      "display_name": "Python 3"
    }
  },
  "cells": [
    {
      "cell_type": "markdown",
      "metadata": {
        "id": "view-in-github",
        "colab_type": "text"
      },
      "source": [
        "<a href=\"https://colab.research.google.com/github/Mike746/tarea-analisis-numerico-1er-parcial/blob/main/ejercicio_8.ipynb\" target=\"_parent\"><img src=\"https://colab.research.google.com/assets/colab-badge.svg\" alt=\"Open In Colab\"/></a>"
      ]
    },
    {
      "cell_type": "code",
      "metadata": {
        "id": "MvyU8H9kg7bf",
        "outputId": "7b3b45dd-83b5-4ada-d057-9ba1dfd83a97",
        "colab": {
          "base_uri": "https://localhost:8080/"
        }
      },
      "source": [
        "n=int(input(\"introduce un numero: \"))\n",
        "i=0\n",
        "j=0\n",
        "while j<=n:\n",
        "    print((j*'* ')+i*' ')\n",
        "    j=j+1\n",
        "    i=i+1\n",
        "print (\"\\nfin del programa\")"
      ],
      "execution_count": 28,
      "outputs": [
        {
          "output_type": "stream",
          "text": [
            "introduce un numero: 5\n",
            "\n",
            "*  \n",
            "* *   \n",
            "* * *    \n",
            "* * * *     \n",
            "* * * * *      \n",
            "\n",
            "fin del programa\n"
          ],
          "name": "stdout"
        }
      ]
    }
  ]
}